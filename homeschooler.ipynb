{
  "nbformat": 4,
  "nbformat_minor": 0,
  "metadata": {
    "colab": {
      "name": "homeschooler.ipynb",
      "provenance": [],
      "collapsed_sections": []
    },
    "kernelspec": {
      "name": "python3",
      "display_name": "Python 3"
    }
  },
  "cells": [
    {
      "cell_type": "markdown",
      "metadata": {
        "id": "wEjLGgBKEK5t",
        "colab_type": "text"
      },
      "source": [
        "# Homeschooler shokunin challenge\n",
        "\n",
        "Run all cells and check the **output according to problem spec**"
      ]
    },
    {
      "cell_type": "markdown",
      "metadata": {
        "id": "EhMgWqzmbFip",
        "colab_type": "text"
      },
      "source": [
        "# Tasks\n",
        "\n",
        "Define tasks data and utility methods"
      ]
    },
    {
      "cell_type": "code",
      "metadata": {
        "id": "2VVQKWpNHwqA",
        "colab_type": "code",
        "colab": {}
      },
      "source": [
        "tasks_2 = {'A': 5,\n",
        "           'B': 1,\n",
        "           'C': 4}\n",
        "\n",
        "tasks_aye = {'A': 2,\n",
        "             'B': 5,\n",
        "             'C': 1,\n",
        "             'D': 6,\n",
        "             'E': 4,\n",
        "             'F': 2,\n",
        "             'G': 1,\n",
        "             'H': 3,\n",
        "             'I': 2,\n",
        "             'J': 2}\n",
        "\n",
        "tasks_yes = {'A': 5,\n",
        "             'B': 4,\n",
        "             'C': 1,\n",
        "             'D': 2,\n",
        "             'E': 7,\n",
        "             'F': 8,\n",
        "             'G': 3}\n",
        "\n",
        "tasks_nup = {'A': 5,\n",
        "             'B': 4,\n",
        "             'C': 1,\n",
        "             'D': 2,\n",
        "             'E': 7,\n",
        "             'F': 12,\n",
        "             'G': 2}"
      ],
      "execution_count": 1,
      "outputs": []
    },
    {
      "cell_type": "code",
      "metadata": {
        "id": "ymArr4eaLeer",
        "colab_type": "code",
        "colab": {}
      },
      "source": [
        "def efforts(tasks):\n",
        "  return [t[1] for t in tasks.items()]\n",
        "\n",
        "def total_effort(tasks):\n",
        "  return sum(efforts(tasks))\n",
        "\n",
        "def can_sum_split(tasks, n):\n",
        "  return total_effort(tasks) % n == 0\n",
        "\n",
        "def child_target_load(tasks, n):\n",
        "  return total_effort(tasks) // n\n",
        "\n",
        "def oversize_tasks(tasks, n):\n",
        "  return max(efforts(tasks)) > child_target_load(tasks, n)   "
      ],
      "execution_count": 2,
      "outputs": []
    },
    {
      "cell_type": "code",
      "metadata": {
        "id": "1CL3PNmFIgvm",
        "colab_type": "code",
        "colab": {
          "base_uri": "https://localhost:8080/",
          "height": 34
        },
        "outputId": "de208784-0ac2-46d5-d609-3b007f3c5022"
      },
      "source": [
        "can_sum_split(tasks_nup, 3)"
      ],
      "execution_count": 3,
      "outputs": [
        {
          "output_type": "execute_result",
          "data": {
            "text/plain": [
              "True"
            ]
          },
          "metadata": {
            "tags": []
          },
          "execution_count": 3
        }
      ]
    },
    {
      "cell_type": "code",
      "metadata": {
        "id": "56MsFX8MKjT5",
        "colab_type": "code",
        "colab": {
          "base_uri": "https://localhost:8080/",
          "height": 34
        },
        "outputId": "f140b8b6-3afc-4ada-fceb-a229e35ad4c5"
      },
      "source": [
        "oversize_tasks(tasks_yes, 3)"
      ],
      "execution_count": 4,
      "outputs": [
        {
          "output_type": "execute_result",
          "data": {
            "text/plain": [
              "False"
            ]
          },
          "metadata": {
            "tags": []
          },
          "execution_count": 4
        }
      ]
    },
    {
      "cell_type": "markdown",
      "metadata": {
        "id": "ESBnkf2baT6O",
        "colab_type": "text"
      },
      "source": [
        "# Solver\n",
        "\n",
        "The assignment of tasks to children is a vector of length m (where m is the number of tasks). Each element of the vector is the index of the child to which that task is assigned (values 0...n-1)\n",
        "\n",
        "These are ultility methods for the simulated annealing solver"
      ]
    },
    {
      "cell_type": "code",
      "metadata": {
        "id": "dqL4FQ6hmB2V",
        "colab_type": "code",
        "colab": {
          "base_uri": "https://localhost:8080/",
          "height": 68
        },
        "outputId": "5d00e7d1-662e-463d-a68a-5640ad271856"
      },
      "source": [
        "import math\n",
        "import numpy as np\n",
        "\n",
        "# calculate the loads for each child (list length n)\n",
        "def loads(tasks, n, assignment):\n",
        "  loads = [0] * n\n",
        "  tks = sorted(list(tasks.keys()))\n",
        "  for i, c in enumerate(assignment):\n",
        "    loads[c] = loads[c] + tasks[tks[i]]\n",
        "  return loads\n",
        "\n",
        "print(loads(tasks_2, 2, [0, 1, 1]))\n",
        "\n",
        "# calculate energy functions for simulated annealing\n",
        "def energy(tasks, n, assignment):\n",
        "  targets = [child_target_load(tasks, n)] * n\n",
        "  deltas = np.array(loads(tasks, n, assignment)) - np.array(targets)\n",
        "  return sum(abs(deltas))\n",
        "\n",
        "def energy_binary(tasks, n, assignment):\n",
        "  return int(energy(tasks, n, assignment) > 0)\n",
        "\n",
        "# define neighbors of a task assignment\n",
        "# where exactly one task is assigned to another child\n",
        "def neighbours(n, assignment):\n",
        "  neighbours = []\n",
        "  for i, _ in enumerate(assignment):\n",
        "    for r in range(1, n):\n",
        "      neighbour = assignment.copy()\n",
        "      neighbour[i] = (neighbour[i] + r) % n\n",
        "      neighbours.append(neighbour)\n",
        "  return neighbours\n",
        "\n",
        "print(neighbours(2, [0, 0, 1]))\n",
        "\n",
        "# distance between two assignments\n",
        "def distance(a0, a1):\n",
        "  return sum([x1 != x0 for x0, x1 in zip(a0, a1)])\n",
        "\n",
        "print([distance(n, [0, 0, 0]) for n in neighbours(2, [0, 0, 1])])\n",
        "\n",
        "# playing around with symmetries\n",
        "def classes(assignment):\n",
        "  class_dict = {}\n",
        "  class_list = []\n",
        "  for t in assignment:\n",
        "    if not t in class_dict:\n",
        "      class_dict[t] = len(class_dict)\n",
        "    class_list.append(class_dict[t])\n",
        "  return class_list\n",
        "\n",
        "def symmetrical(a0, a1):\n",
        "  return tuple(classes(a0)) == tuple(classes(a1))\n",
        "\n",
        "# simulated annealing P() function\n",
        "def accept_prob(e0, e1, t):\n",
        "  return 1 if e1 < e0 else math.exp(-(e1 - e0) / t)"
      ],
      "execution_count": 5,
      "outputs": [
        {
          "output_type": "stream",
          "text": [
            "[5, 5]\n",
            "[[1, 0, 1], [0, 1, 1], [0, 0, 0]]\n",
            "[2, 2, 0]\n"
          ],
          "name": "stdout"
        }
      ]
    },
    {
      "cell_type": "markdown",
      "metadata": {
        "id": "LW9Su6f92YTT",
        "colab_type": "text"
      },
      "source": [
        "This is the simulated annealing solver itself"
      ]
    },
    {
      "cell_type": "code",
      "metadata": {
        "id": "agZ8xAQqKeXD",
        "colab_type": "code",
        "colab": {}
      },
      "source": [
        "import random\n",
        "\n",
        "# todo - avoid revisiting states\n",
        "# todo - consider symmetry somehow - is it in the revisiting?\n",
        "\n",
        "def solve(tasks, n, initial_assignment, steps, energy_fn):\n",
        "  solved = False\n",
        "  assignment = initial_assignment\n",
        "  e0 = energy_fn(tasks, n, assignment)\n",
        "  es = [e0]\n",
        "  ss = [assignment]\n",
        "  for k in range(steps):\n",
        "    t = (k + 1) / steps\n",
        "    if e0 == 0:\n",
        "      solved = True\n",
        "      break\n",
        "    candidate = random.choice(neighbours(n, assignment))\n",
        "    e1 = energy_fn(tasks, n, candidate)\n",
        "    es.append(e1)\n",
        "    ss.append(candidate)\n",
        "    if accept_prob(e0, e1, t) >= random.random():\n",
        "      assignment = candidate\n",
        "      e0 = e1\n",
        "  return solved, assignment, k, es, ss"
      ],
      "execution_count": 6,
      "outputs": []
    },
    {
      "cell_type": "markdown",
      "metadata": {
        "id": "zeRQaVBfayGe",
        "colab_type": "text"
      },
      "source": [
        "# Initial assignment of tasks\n",
        "\n",
        "Define where the solver starts"
      ]
    },
    {
      "cell_type": "code",
      "metadata": {
        "id": "ncBtm9fgqmea",
        "colab_type": "code",
        "colab": {
          "base_uri": "https://localhost:8080/",
          "height": 34
        },
        "outputId": "6d038dfd-7887-40a0-d142-3c6f410686ad"
      },
      "source": [
        "def assign_round_robin(tasks, n):\n",
        "  tks = sorted(list(tasks.keys()))\n",
        "  sorted_tasks = {k: v for k, v in reversed(sorted(tasks.items(), key=lambda x: x[1]))}\n",
        "  assignment = [-1] * len(tks)\n",
        "  i = 0\n",
        "  di = 1\n",
        "  for k in sorted_tasks:\n",
        "    j = tks.index(k)\n",
        "    assignment[j] = i\n",
        "    i = i + di\n",
        "    if i >= n:\n",
        "      i = i - di\n",
        "      di = -1\n",
        "    if i <= 0:\n",
        "      i = i - di\n",
        "      di = 1\n",
        "  return assignment\n",
        "\n",
        "def assign_single(tasks, i):\n",
        "  return [i] * len(tasks)\n",
        "\n",
        "def count_all_assignments(tasks, n):\n",
        "  return n ** len(tasks)\n",
        "\n",
        "print(assign_round_robin(tasks_yes, 3))"
      ],
      "execution_count": 7,
      "outputs": [
        {
          "output_type": "stream",
          "text": [
            "[2, 2, 2, 1, 1, 0, 1]\n"
          ],
          "name": "stdout"
        }
      ]
    },
    {
      "cell_type": "markdown",
      "metadata": {
        "id": "fMni9dyNag9j",
        "colab_type": "text"
      },
      "source": [
        "# Run solver and display results\n",
        "\n",
        "Basic solver run"
      ]
    },
    {
      "cell_type": "code",
      "metadata": {
        "id": "M6j15rb6DhXA",
        "colab_type": "code",
        "colab": {
          "base_uri": "https://localhost:8080/",
          "height": 282
        },
        "outputId": "bc220535-33f3-4932-ea35-b9efc6a42c65"
      },
      "source": [
        "# run solver\n",
        "out = solve(tasks_yes, 3, assign_round_robin(tasks_yes, 3), 2000, energy)\n",
        "print('Solver: {}'.format(out[:3]))\n",
        "\n",
        "# and for good measure plot energy\n",
        "import matplotlib.pyplot as plt\n",
        "plt.plot([distance(s, out[4][0]) for s in out[4]], out[3], \"o\")\n",
        "for i in range(1, len(out[4])):\n",
        "  ps = [(distance(x, out[4][0]), y) for x, y in zip(out[4], out[3])]\n",
        "  plt.arrow(ps[i - 1][0], ps[i - 1][1], ps[i][0] - ps[i - 1][0], ps[i][1] - ps[i - 1][1], width=0.05, length_includes_head=True)\n",
        "#plt.arrow(0,0, 1,1)\n",
        "plt.show()"
      ],
      "execution_count": 8,
      "outputs": [
        {
          "output_type": "stream",
          "text": [
            "Solver: (True, [2, 2, 2, 0, 1, 0, 1], 25)\n"
          ],
          "name": "stdout"
        },
        {
          "output_type": "display_data",
          "data": {
            "image/png": "[encoded data removed]",
            "text/plain": [
              "<Figure size 432x288 with 1 Axes>"
            ]
          },
          "metadata": {
            "tags": [],
            "needs_background": "light"
          }
        }
      ]
    },
    {
      "cell_type": "markdown",
      "metadata": {
        "id": "ZJFVWPirDqnX",
        "colab_type": "text"
      },
      "source": [
        "**Output according to problem spec**"
      ]
    },
    {
      "cell_type": "code",
      "metadata": {
        "id": "oeqDYHwCaeHv",
        "colab_type": "code",
        "colab": {
          "base_uri": "https://localhost:8080/",
          "height": 85
        },
        "outputId": "e85e91b0-b143-470d-a2c6-43ae09f177fd"
      },
      "source": [
        "def pretty_print(tasks, n, assignment):\n",
        "  tks = sorted(list(tasks.keys()))\n",
        "  ls = loads(tasks, n, assignment)\n",
        "  for i in range(n):\n",
        "    ca = [j for j, c in enumerate(assignment) if c == i]\n",
        "    ca_strs = ['Task {} ({} points)'.format(tks[j], tasks[tks[j]]) for j in ca]\n",
        "    ca_str = ' + '.join(ca_strs)\n",
        "    print('Child {}: {} = {} points'.format(i + 1, ca_str, ls[i]))\n",
        "\n",
        "def run(tasks, n):\n",
        "  no_solution = not can_sum_split(tasks, n) or oversize_tasks(tasks, n)\n",
        "  if not no_solution:\n",
        "    output = solve(tasks, n, assign_round_robin(tasks, n), 2000, energy)\n",
        "  \n",
        "  if no_solution or not output[0]:\n",
        "    print('No')\n",
        "    return\n",
        "\n",
        "  print('Yes')\n",
        "  pretty_print(tasks, n, output[1])\n",
        "\n",
        "run(tasks_yes, 3)"
      ],
      "execution_count": 9,
      "outputs": [
        {
          "output_type": "stream",
          "text": [
            "Yes\n",
            "Child 1: Task D (2 points) + Task F (8 points) = 10 points\n",
            "Child 2: Task E (7 points) + Task G (3 points) = 10 points\n",
            "Child 3: Task A (5 points) + Task B (4 points) + Task C (1 points) = 10 points\n"
          ],
          "name": "stdout"
        }
      ]
    },
    {
      "cell_type": "markdown",
      "metadata": {
        "id": "a4Th0z5goJbI",
        "colab_type": "text"
      },
      "source": [
        "# Compare effectiveness\n",
        "\n",
        "Compare round robin assignment vs single child assignment as initial state and compare continuous energy function vs binary energy function."
      ]
    },
    {
      "cell_type": "code",
      "metadata": {
        "id": "uHDvGkpVoJA7",
        "colab_type": "code",
        "colab": {}
      },
      "source": [
        "out_rbn_cnt = []\n",
        "out_sgl_cnt = []\n",
        "out_rbn_bin = []\n",
        "out_sgl_bin = []\n",
        "\n",
        "for i in range(2000):\n",
        "  out_rbn_cnt.append(solve(tasks_yes, 3, assign_round_robin(tasks_yes, 3), 2000, energy)[2])\n",
        "  out_sgl_cnt.append(solve(tasks_yes, 3, assign_single(tasks_yes, 0), 2000, energy)[2])\n",
        "  out_rbn_bin.append(solve(tasks_yes, 3, assign_round_robin(tasks_yes, 3), 2000, energy_binary)[2])\n",
        "  out_sgl_bin.append(solve(tasks_yes, 3, assign_single(tasks_yes, 0), 2000, energy_binary)[2])"
      ],
      "execution_count": 10,
      "outputs": []
    },
    {
      "cell_type": "code",
      "metadata": {
        "id": "KfuRGmKEp5hV",
        "colab_type": "code",
        "colab": {
          "base_uri": "https://localhost:8080/",
          "height": 295
        },
        "outputId": "cd7fb77d-70be-4d49-ba23-5a80bd4c1fb3"
      },
      "source": [
        "# visualise results\n",
        "import pandas as pd\n",
        "import statistics\n",
        "\n",
        "df = pd.DataFrame(np.transpose(np.array([out_rbn_cnt, out_sgl_cnt, out_rbn_bin, out_sgl_bin])),\n",
        "                  columns=['RBN cont (median {})'.format(statistics.median(out_rbn_cnt)),\n",
        "                           'SGL cont (median {})'.format(statistics.median(out_sgl_cnt)),\n",
        "                           'RBN bin (median {})'.format(statistics.median(out_rbn_bin)),\n",
        "                           'SGL bin (median {})'.format(statistics.median(out_sgl_bin))])\n",
        "df.plot.kde()\n",
        "plt.title('Comparing initial state & optimisation functions')\n",
        "plt.xlabel('steps to solution')\n",
        "plt.show()"
      ],
      "execution_count": 11,
      "outputs": [
        {
          "output_type": "display_data",
          "data": {
            "image/png": "[encoded data removed]",
            "text/plain": [
              "<Figure size 432x288 with 1 Axes>"
            ]
          },
          "metadata": {
            "tags": [],
            "needs_background": "light"
          }
        }
      ]
    },
    {
      "cell_type": "markdown",
      "metadata": {
        "id": "48hXEjdg5XY_",
        "colab_type": "text"
      },
      "source": [
        "# Brute force solver\n",
        "\n",
        "Just for kicks"
      ]
    },
    {
      "cell_type": "code",
      "metadata": {
        "id": "5mIPe0XK5amW",
        "colab_type": "code",
        "colab": {}
      },
      "source": [
        "def brute(tasks, n, steps):\n",
        "  solved = False\n",
        "  assignment = [0] * len(tasks)\n",
        "  e0 = energy_binary(tasks, n, assignment)\n",
        "  es = [e0]\n",
        "  variant = sum([t * n ** (len(tasks) - i - 1) for i, t in enumerate(assignment)])\n",
        "  for k in range(steps):\n",
        "    if e0 == 0:\n",
        "      solved = True\n",
        "      break\n",
        "    variant = (variant + 1) % n ** len(tasks)\n",
        "    candidate = [variant % n ** i // n ** (i - 1) for i in range(len(tasks), 0, -1)]\n",
        "    e1 = energy_binary(tasks, n, candidate)\n",
        "    es.append(e1)\n",
        "    assignment = candidate\n",
        "    e0 = e1\n",
        "  return solved, assignment, k, es"
      ],
      "execution_count": 12,
      "outputs": []
    },
    {
      "cell_type": "code",
      "metadata": {
        "id": "5yPz8rAj7Kub",
        "colab_type": "code",
        "colab": {
          "base_uri": "https://localhost:8080/",
          "height": 34
        },
        "outputId": "0ba4e557-5711-4c96-fe17-fb7bfec34570"
      },
      "source": [
        "# run solver\n",
        "out = brute(tasks_yes, 3, 2000)\n",
        "print('Brute: {}'.format(out[:3]))"
      ],
      "execution_count": 13,
      "outputs": [
        {
          "output_type": "stream",
          "text": [
            "Brute: (True, [0, 0, 0, 1, 2, 1, 2], 50)\n"
          ],
          "name": "stdout"
        }
      ]
    }
  ]
}