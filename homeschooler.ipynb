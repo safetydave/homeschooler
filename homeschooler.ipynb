{
  "nbformat": 4,
  "nbformat_minor": 0,
  "metadata": {
    "colab": {
      "name": "homeschooler.ipynb",
      "provenance": [],
      "collapsed_sections": []
    },
    "kernelspec": {
      "name": "python3",
      "display_name": "Python 3"
    }
  },
  "cells": [
    {
      "cell_type": "markdown",
      "metadata": {
        "id": "wEjLGgBKEK5t",
        "colab_type": "text"
      },
      "source": [
        "# Homeschooler shokunin challenge\n",
        "\n",
        "Run all cells and check the **[output according to problem spec](https://colab.research.google.com/drive/1Pst5KmSgG1pA7C1cBKI3Td9MehR-aeqa#scrollTo=ZJFVWPirDqnX&line=1&uniqifier=1)**"
      ]
    },
    {
      "cell_type": "markdown",
      "metadata": {
        "id": "EhMgWqzmbFip",
        "colab_type": "text"
      },
      "source": [
        "# Tasks\n",
        "\n",
        "Define tasks data and utility methods"
      ]
    },
    {
      "cell_type": "code",
      "metadata": {
        "id": "2VVQKWpNHwqA",
        "colab_type": "code",
        "colab": {}
      },
      "source": [
        "tasks_2 = {'A': 5,\n",
        "           'B': 1,\n",
        "           'C': 4}\n",
        "\n",
        "tasks_aye = {'A': 2,\n",
        "             'B': 5,\n",
        "             'C': 1,\n",
        "             'D': 6,\n",
        "             'E': 4,\n",
        "             'F': 2,\n",
        "             'G': 1,\n",
        "             'H': 3,\n",
        "             'I': 2,\n",
        "             'J': 2}\n",
        "\n",
        "tasks_yes = {'A': 5,\n",
        "             'B': 4,\n",
        "             'C': 1,\n",
        "             'D': 2,\n",
        "             'E': 7,\n",
        "             'F': 8,\n",
        "             'G': 3}\n",
        "\n",
        "tasks_nup = {'A': 5,\n",
        "             'B': 4,\n",
        "             'C': 1,\n",
        "             'D': 2,\n",
        "             'E': 7,\n",
        "             'F': 12,\n",
        "             'G': 2}"
      ],
      "execution_count": 1,
      "outputs": []
    },
    {
      "cell_type": "code",
      "metadata": {
        "id": "ymArr4eaLeer",
        "colab_type": "code",
        "colab": {}
      },
      "source": [
        "def efforts(tasks):\n",
        "  return [t[1] for t in tasks.items()]\n",
        "\n",
        "def total_effort(tasks):\n",
        "  return sum(efforts(tasks))\n",
        "\n",
        "def can_sum_split(tasks, n):\n",
        "  return total_effort(tasks) % n == 0\n",
        "\n",
        "def child_target_load(tasks, n):\n",
        "  return total_effort(tasks) // n\n",
        "\n",
        "def oversize_tasks(tasks, n):\n",
        "  return max(efforts(tasks)) > child_target_load(tasks, n)   "
      ],
      "execution_count": 2,
      "outputs": []
    },
    {
      "cell_type": "code",
      "metadata": {
        "id": "1CL3PNmFIgvm",
        "colab_type": "code",
        "colab": {
          "base_uri": "https://localhost:8080/",
          "height": 34
        },
        "outputId": "61f1702c-ec4f-4846-a8b0-dfa7b0d359f5"
      },
      "source": [
        "can_sum_split(tasks_nup, 3)"
      ],
      "execution_count": 3,
      "outputs": [
        {
          "output_type": "execute_result",
          "data": {
            "text/plain": [
              "True"
            ]
          },
          "metadata": {
            "tags": []
          },
          "execution_count": 3
        }
      ]
    },
    {
      "cell_type": "code",
      "metadata": {
        "id": "56MsFX8MKjT5",
        "colab_type": "code",
        "colab": {
          "base_uri": "https://localhost:8080/",
          "height": 34
        },
        "outputId": "9cc015ee-b2fb-4b8f-8ea6-b23b3838a6f8"
      },
      "source": [
        "oversize_tasks(tasks_yes, 3)"
      ],
      "execution_count": 4,
      "outputs": [
        {
          "output_type": "execute_result",
          "data": {
            "text/plain": [
              "False"
            ]
          },
          "metadata": {
            "tags": []
          },
          "execution_count": 4
        }
      ]
    },
    {
      "cell_type": "markdown",
      "metadata": {
        "id": "ESBnkf2baT6O",
        "colab_type": "text"
      },
      "source": [
        "# Solver\n",
        "\n",
        "The assignment of tasks to children is a vector of length m (where m is the number of tasks). Each element of the vector is the index of the child to which that task is assigned (values 0...n-1)\n",
        "\n",
        "These are ultility methods for the simulated annealing solver"
      ]
    },
    {
      "cell_type": "code",
      "metadata": {
        "id": "dqL4FQ6hmB2V",
        "colab_type": "code",
        "colab": {
          "base_uri": "https://localhost:8080/",
          "height": 51
        },
        "outputId": "a12fc484-5883-4587-b4d4-09e00e80a92c"
      },
      "source": [
        "import math\n",
        "import numpy as np\n",
        "\n",
        "# calculate the loads for each child (list length n)\n",
        "def loads(tasks, n, assignment):\n",
        "  loads = [0] * n\n",
        "  tks = sorted(list(tasks.keys()))\n",
        "  for i, c in enumerate(assignment):\n",
        "    loads[c] = loads[c] + tasks[tks[i]]\n",
        "  return loads\n",
        "\n",
        "print(loads(tasks_2, 2, [0, 1, 1]))\n",
        "\n",
        "# calculate energy functions for simulated annealing\n",
        "def energy(tasks, n, assignment):\n",
        "  targets = [child_target_load(tasks, n)] * n\n",
        "  deltas = np.array(loads(tasks, n, assignment)) - np.array(targets)\n",
        "  return sum(abs(deltas))\n",
        "\n",
        "def energy_binary(tasks, n, assignment):\n",
        "  return int(energy(tasks, n, assignment) > 0)\n",
        "\n",
        "# define neighbors of a task assignment\n",
        "# where exactly one task is assigned to another child\n",
        "def neighbours(n, assignment):\n",
        "  neighbours = []\n",
        "  for i, _ in enumerate(assignment):\n",
        "    for r in range(1, n):\n",
        "      neighbour = assignment.copy()\n",
        "      neighbour[i] = (neighbour[i] + r) % n\n",
        "      neighbours.append(neighbour)\n",
        "  return neighbours\n",
        "\n",
        "print(neighbours(2, [0, 0, 1]))\n",
        "\n",
        "# simulated annealing P() function\n",
        "def accept_prob(e0, e1, t):\n",
        "  return 1 if e1 < e0 else math.exp(-(e1 - e0) / t)"
      ],
      "execution_count": 5,
      "outputs": [
        {
          "output_type": "stream",
          "text": [
            "[5, 5]\n",
            "[[1, 0, 1], [0, 1, 1], [0, 0, 0]]\n"
          ],
          "name": "stdout"
        }
      ]
    },
    {
      "cell_type": "markdown",
      "metadata": {
        "id": "LW9Su6f92YTT",
        "colab_type": "text"
      },
      "source": [
        "This is the simulated annealing solver itself"
      ]
    },
    {
      "cell_type": "code",
      "metadata": {
        "id": "agZ8xAQqKeXD",
        "colab_type": "code",
        "colab": {}
      },
      "source": [
        "import random\n",
        "\n",
        "def solve(tasks, n, initial_assignment, steps, energy_fn):\n",
        "  solved = False\n",
        "  assignment = initial_assignment\n",
        "  e0 = energy_fn(tasks, n, assignment)\n",
        "  es = [e0]\n",
        "  for k in range(steps):\n",
        "    t = (k + 1) / steps\n",
        "    if e0 == 0:\n",
        "      solved = True\n",
        "      break\n",
        "    candidate = random.choice(neighbours(n, assignment))\n",
        "    e1 = energy_fn(tasks, n, candidate)\n",
        "    es.append(e1)\n",
        "    if accept_prob(e0, e1, t) >= random.random():\n",
        "      assignment = candidate\n",
        "      e0 = e1\n",
        "  return solved, assignment, k, es"
      ],
      "execution_count": 6,
      "outputs": []
    },
    {
      "cell_type": "markdown",
      "metadata": {
        "id": "zeRQaVBfayGe",
        "colab_type": "text"
      },
      "source": [
        "# Initial assignment of tasks\n",
        "\n",
        "Define where the solver starts"
      ]
    },
    {
      "cell_type": "code",
      "metadata": {
        "id": "ncBtm9fgqmea",
        "colab_type": "code",
        "colab": {
          "base_uri": "https://localhost:8080/",
          "height": 34
        },
        "outputId": "900d0b69-1881-47d9-cd43-1c77a3745bf8"
      },
      "source": [
        "def assign_round_robin(tasks, n):\n",
        "  tks = sorted(list(tasks.keys()))\n",
        "  sorted_tasks = {k: v for k, v in reversed(sorted(tasks.items(), key=lambda x: x[1]))}\n",
        "  assignment = [-1] * len(tks)\n",
        "  i = 0\n",
        "  di = 1\n",
        "  for k in sorted_tasks:\n",
        "    j = tks.index(k)\n",
        "    assignment[j] = i\n",
        "    i = i + di\n",
        "    if i >= n:\n",
        "      i = i - di\n",
        "      di = -1\n",
        "    if i <= 0:\n",
        "      i = i - di\n",
        "      di = 1\n",
        "  return assignment\n",
        "\n",
        "def assign_single(tasks, i):\n",
        "  return [i] * len(tasks)\n",
        "\n",
        "def count_all_assignments(tasks, n):\n",
        "  return n ** len(tasks)\n",
        "\n",
        "print(assign_round_robin(tasks_yes, 3))"
      ],
      "execution_count": 7,
      "outputs": [
        {
          "output_type": "stream",
          "text": [
            "[2, 2, 2, 1, 1, 0, 1]\n"
          ],
          "name": "stdout"
        }
      ]
    },
    {
      "cell_type": "markdown",
      "metadata": {
        "id": "fMni9dyNag9j",
        "colab_type": "text"
      },
      "source": [
        "# Run solver and display results\n",
        "\n",
        "Basic solver run"
      ]
    },
    {
      "cell_type": "code",
      "metadata": {
        "id": "M6j15rb6DhXA",
        "colab_type": "code",
        "colab": {
          "base_uri": "https://localhost:8080/",
          "height": 282
        },
        "outputId": "bc6e144d-969f-40f5-9bbc-b0efe20b9762"
      },
      "source": [
        "# run solver\n",
        "out = solve(tasks_yes, 3, assign_round_robin(tasks_yes, 3), 2000, energy)\n",
        "print('Solver: {}'.format(out[:3]))\n",
        "\n",
        "# and for good measure plot energy\n",
        "import matplotlib.pyplot as plt\n",
        "plt.plot(out[3])\n",
        "plt.show()"
      ],
      "execution_count": 24,
      "outputs": [
        {
          "output_type": "stream",
          "text": [
            "Solver: (True, [2, 2, 2, 0, 1, 0, 1], 15)\n"
          ],
          "name": "stdout"
        },
        {
          "output_type": "display_data",
          "data": {
            "image/png": "[encoded data removed]",
            "text/plain": [
              "<Figure size 432x288 with 1 Axes>"
            ]
          },
          "metadata": {
            "tags": [],
            "needs_background": "light"
          }
        }
      ]
    },
    {
      "cell_type": "markdown",
      "metadata": {
        "id": "ZJFVWPirDqnX",
        "colab_type": "text"
      },
      "source": [
        "**Output according to problem spec**"
      ]
    },
    {
      "cell_type": "code",
      "metadata": {
        "id": "oeqDYHwCaeHv",
        "colab_type": "code",
        "colab": {
          "base_uri": "https://localhost:8080/",
          "height": 85
        },
        "outputId": "71e4a01b-15b9-43b4-e55b-988a8f74c051"
      },
      "source": [
        "def pretty_print(tasks, n, assignment):\n",
        "  tks = sorted(list(tasks.keys()))\n",
        "  ls = loads(tasks, n, assignment)\n",
        "  for i in range(n):\n",
        "    ca = [j for j, c in enumerate(assignment) if c == i]\n",
        "    ca_strs = ['Task {} ({} points)'.format(tks[j], tasks[tks[j]]) for j in ca]\n",
        "    ca_str = ' + '.join(ca_strs)\n",
        "    print('Child {}: {} = {} points'.format(i + 1, ca_str, ls[i]))\n",
        "\n",
        "def run(tasks, n):\n",
        "  no_solution = not can_sum_split(tasks, n) or oversize_tasks(tasks, n)\n",
        "  if not no_solution:\n",
        "    output = solve(tasks, n, assign_round_robin(tasks, n), 2000, energy)\n",
        "  \n",
        "  if no_solution or not output[0]:\n",
        "    print('No')\n",
        "    return\n",
        "\n",
        "  print('Yes')\n",
        "  pretty_print(tasks, n, output[1])\n",
        "\n",
        "run(tasks_yes, 3)"
      ],
      "execution_count": 9,
      "outputs": [
        {
          "output_type": "stream",
          "text": [
            "Yes\n",
            "Child 1: Task D (2 points) + Task F (8 points) = 10 points\n",
            "Child 2: Task E (7 points) + Task G (3 points) = 10 points\n",
            "Child 3: Task A (5 points) + Task B (4 points) + Task C (1 points) = 10 points\n"
          ],
          "name": "stdout"
        }
      ]
    },
    {
      "cell_type": "markdown",
      "metadata": {
        "id": "a4Th0z5goJbI",
        "colab_type": "text"
      },
      "source": [
        "# Compare effectiveness\n",
        "\n",
        "Compare round robin assignment vs single child assignment as initial state and compare continuous energy function vs binary energy function."
      ]
    },
    {
      "cell_type": "code",
      "metadata": {
        "id": "uHDvGkpVoJA7",
        "colab_type": "code",
        "colab": {}
      },
      "source": [
        "out_rbn_cnt = []\n",
        "out_sgl_cnt = []\n",
        "out_rbn_bin = []\n",
        "out_sgl_bin = []\n",
        "\n",
        "for i in range(2000):\n",
        "  out_rbn_cnt.append(solve(tasks_yes, 3, assign_round_robin(tasks_yes, 3), 2000, energy)[2])\n",
        "  out_sgl_cnt.append(solve(tasks_yes, 3, assign_single(tasks_yes, 0), 2000, energy)[2])\n",
        "  out_rbn_bin.append(solve(tasks_yes, 3, assign_round_robin(tasks_yes, 3), 2000, energy_binary)[2])\n",
        "  out_sgl_bin.append(solve(tasks_yes, 3, assign_single(tasks_yes, 0), 2000, energy_binary)[2])"
      ],
      "execution_count": 10,
      "outputs": []
    },
    {
      "cell_type": "code",
      "metadata": {
        "id": "KfuRGmKEp5hV",
        "colab_type": "code",
        "colab": {
          "base_uri": "https://localhost:8080/",
          "height": 295
        },
        "outputId": "94404d12-6cf4-48ba-a181-883682e45909"
      },
      "source": [
        "# visualise results\n",
        "import pandas as pd\n",
        "import statistics\n",
        "\n",
        "df = pd.DataFrame(np.transpose(np.array([out_rbn_cnt, out_sgl_cnt, out_rbn_bin, out_sgl_bin])),\n",
        "                  columns=['RBN cont (median {})'.format(statistics.median(out_rbn_cnt)),\n",
        "                           'SGL cont (median {})'.format(statistics.median(out_sgl_cnt)),\n",
        "                           'RBN bin (median {})'.format(statistics.median(out_rbn_bin)),\n",
        "                           'SGL bin (median {})'.format(statistics.median(out_sgl_bin))])\n",
        "df.plot.kde()\n",
        "plt.title('Comparing initial state & optimisation functions')\n",
        "plt.xlabel('steps to solution')\n",
        "plt.show()"
      ],
      "execution_count": 11,
      "outputs": [
        {
          "output_type": "display_data",
          "data": {
            "image/png": "[encoded data removed]",
            "text/plain": [
              "<Figure size 432x288 with 1 Axes>"
            ]
          },
          "metadata": {
            "tags": [],
            "needs_background": "light"
          }
        }
      ]
    },
    {
      "cell_type": "markdown",
      "metadata": {
        "id": "48hXEjdg5XY_",
        "colab_type": "text"
      },
      "source": [
        "# Brute force solver\n",
        "\n",
        "Just for kicks"
      ]
    },
    {
      "cell_type": "code",
      "metadata": {
        "id": "5mIPe0XK5amW",
        "colab_type": "code",
        "colab": {}
      },
      "source": [
        "def brute(tasks, n, steps):\n",
        "  solved = False\n",
        "  assignment = [2] * len(tasks)\n",
        "  e0 = energy_binary(tasks, n, assignment)\n",
        "  es = [e0]\n",
        "  variant = 0\n",
        "  for i, t in enumerate(assignment):\n",
        "    ir = len(assignment) - 1 - i\n",
        "    variant = variant + n ** ir\n",
        "  for k in range(steps):\n",
        "    if e0 == 0:\n",
        "      solved = True\n",
        "      break\n",
        "    variant = variant + 1\n",
        "    remainder = variant\n",
        "    candidate = [-1] * len(assignment)\n",
        "    for i, t in enumerate(assignment):\n",
        "      ir = len(assignment) - 1 - i\n",
        "      candidate[ir] = remainder // n ** ir\n",
        "      remainder = remainder % n ** ir\n",
        "    e1 = energy_binary(tasks, n, candidate)\n",
        "    es.append(e1)\n",
        "    assignment = candidate\n",
        "    e0 = e1\n",
        "  return solved, assignment, k, es"
      ],
      "execution_count": 12,
      "outputs": []
    },
    {
      "cell_type": "code",
      "metadata": {
        "id": "5yPz8rAj7Kub",
        "colab_type": "code",
        "colab": {
          "base_uri": "https://localhost:8080/",
          "height": 34
        },
        "outputId": "c675779e-7a54-4d99-f847-9670ef86ec45"
      },
      "source": [
        "# run solver\n",
        "out = brute(tasks_yes, 3, 2000)\n",
        "print('Brute: {}'.format(out[:3]))"
      ],
      "execution_count": 13,
      "outputs": [
        {
          "output_type": "stream",
          "text": [
            "Brute: (True, [0, 0, 0, 2, 1, 2, 1], 257)\n"
          ],
          "name": "stdout"
        }
      ]
    }
  ]
}